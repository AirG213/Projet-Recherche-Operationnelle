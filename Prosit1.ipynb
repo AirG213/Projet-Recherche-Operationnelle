{
 "cells": [
  {
   "cell_type": "markdown",
   "metadata": {},
   "source": [
    "# Analyse de Réseaux Simples avec un Graphe Social\n",
    "\n",
    "Dans ce notebook, nous allons créer un graphe représentant un réseau social, ajouter des utilisateurs et des relations d'amitié entre eux, puis chercher un chemin eulérien en utilisant l'algorithme d'Hierholzer. Nous utiliserons `networkx` pour manipuler le graphe et `matplotlib` pour visualiser les résultats."
   ]
  },
  {
   "cell_type": "code",
   "execution_count": null,
   "metadata": {},
   "outputs": [],
   "source": [
    "import networkx as nx\n",
    "import matplotlib.pyplot as plt\n",
    "import random"
   ]
  },
  {
   "cell_type": "markdown",
   "metadata": {},
   "source": [
    "## Création du Graphe\n",
    "\n",
    "Nous allons commencer par créer un graphe et ajouter des nœuds (utilisateurs) et des arêtes (relations d'amitié)."
   ]
  },
  {
   "cell_type": "code",
   "execution_count": null,
   "metadata": {},
   "outputs": [],
   "source": [
    "G = nx.Graph()\n",
    "\n",
    "users = [1, 2, 3, 4, 5, 6, 7, 8, 9, 10]\n",
    "G.add_nodes_from(users)\n",
    "\n",
    "friendships = [(1, 2), (1, 10), #1\n",
    "               (2, 1), (2, 9), (2, 3), (2, 4), #2\n",
    "               (3, 2), (3, 4), #3\n",
    "               (4, 2), (4, 5), (4, 3), (4, 9), #4 \n",
    "               (5, 4), (5, 6), #5\n",
    "               (6, 5), (6, 7), #6\n",
    "               (7, 6), (7, 8), #7\n",
    "               (8, 7), (8, 9), #8\n",
    "               (9, 8), (9, 10), (9, 2), (9, 4), #9\n",
    "               (10, 9), (10, 1)]\n",
    "G.add_edges_from(friendships)"
   ]
  },
  {
   "cell_type": "markdown",
   "metadata": {},
   "source": [
    "## Définition de la Fonction pour Trouver le Chemin Eulérien\n",
    "\n",
    "La fonction `findEulerianPath` utilise l'algorithme d'Hierholzer pour trouver un chemin eulérien dans le graphe."
   ]
  },
  {
   "cell_type": "code",
   "execution_count": null,
   "metadata": {},
   "outputs": [],
   "source": [
    "def findEulerianPath(G):\n",
    "    graph = nx.to_dict_of_lists(G)\n",
    "    oddDegreeNodes = [node for node in graph if len(graph[node]) % 2 != 0]\n",
    "    if len(oddDegreeNodes) != 2 and len(oddDegreeNodes) != 0:\n",
    "        return None\n",
    "    startNode = oddDegreeNodes[0] if oddDegreeNodes else next(iter(graph))\n",
    "    def Hierholzer(u):\n",
    "        stack = [u]\n",
    "        path = []\n",
    "        while stack:\n",
    "            u = stack[-1]\n",
    "            if graph[u]:\n",
    "                v = graph[u].pop()\n",
    "                graph[v].remove(u)\n",
    "                stack.append(v)\n",
    "            else:\n",
    "                path.append(stack.pop())\n",
    "        return path\n",
    "    eulerianPath = Hierholzer(startNode)\n",
    "    if any(graph[node] for node in graph):\n",
    "        return None\n",
    "    return eulerianPath\n"
   ]
  },
  {
   "cell_type": "markdown",
   "metadata": {},
   "source": [
    "## Recherche et Affichage du Chemin Eulérien\n",
    "\n",
    "Nous allons utiliser la fonction définie précédemment pour trouver un chemin eulérien dans notre graphe, puis afficher le résultat."
   ]
  },
  {
   "cell_type": "code",
   "execution_count": null,
   "metadata": {},
   "outputs": [],
   "source": [
    "eulerianPath = findEulerianPath(G)\n",
    "\n",
    "if eulerianPath:\n",
    "    print(\"Chemin eulérien trouvé:\", eulerianPath)\n",
    "else:\n",
    "    print(\"Aucun chemin eulérien n'existe dans ce graphe.\")\n",
    "\n",
    "pos = nx.spring_layout(G)\n",
    "nx.draw(G, pos, with_labels=True, node_color='lightblue', node_size=2000, edge_color='gray')\n",
    "plt.title(\"Graphe de la rue\")\n",
    "plt.show()"
   ]
  }
 ],
 "metadata": {
  "kernelspec": {
   "display_name": "Python 3",
   "language": "python",
   "name": "python3"
  },
  "language_info": {
   "codemirror_mode": {
    "name": "ipython",
    "version": 3
   },
   "file_extension": ".py",
   "mimetype": "text/x-python",
   "name": "python",
   "nbconvert_exporter": "python",
   "pygments_lexer": "ipython3",
   "version": "3.11.9"
  }
 },
 "nbformat": 4,
 "nbformat_minor": 2
}
