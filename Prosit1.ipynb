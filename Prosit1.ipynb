{
 "cells": [
  {
   "cell_type": "code",
   "execution_count": null,
   "metadata": {},
   "outputs": [],
   "source": [
    "import networkx as nx\n",
    "import matplotlib.pyplot as plt\n",
    "\n",
    "G = nx.Graph()\n",
    "\n",
    "users = [1, 2, 3, 4, 5, 6, 7, 8]\n",
    "G.add_nodes_from(users)\n",
    "\n",
    "friendships = [(1, 2), (1, 3), \n",
    "               (2, 1), (2, 4), \n",
    "               (3, 1), (3, 4), (3, 5), \n",
    "               (4, 2), (4, 3), (4, 6), \n",
    "               (5, 3), (5, 6), \n",
    "               (6, 4), (6, 5), (6, 7), \n",
    "               (7, 6), (7, 8), \n",
    "               (8, 7)]\n",
    "\n",
    "G.add_edges_from(friendships)\n",
    "\n",
    "degrees = [val for (node, val) in G.degree()]\n",
    "average_neighbors = sum(degrees) / len(degrees)\n",
    "\n",
    "print(f\"Nombre de voisins moyen par utilisateur : {average_neighbors}\")\n",
    "\n",
    "pos = nx.spring_layout(G)\n",
    "nx.draw(G, pos, with_labels=True, node_color='lightblue', node_size=2000, edge_color='gray')\n",
    "plt.title(\"Graphe du réseau social\")\n",
    "plt.show()"
   ]
  }
 ],
 "metadata": {
  "language_info": {
   "name": "python"
  }
 },
 "nbformat": 4,
 "nbformat_minor": 2
}
