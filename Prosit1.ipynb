{
 "cells": [
  {
   "cell_type": "code",
   "execution_count": 1,
   "metadata": {},
   "outputs": [
    {
     "name": "stdout",
     "output_type": "stream",
     "text": [
      "[[], [], [], [], [], [], [], [], [], [], [], [], [], [], []]\n"
     ]
    },
    {
     "ename": "NameError",
     "evalue": "name 'n' is not defined",
     "output_type": "error",
     "traceback": [
      "\u001b[1;31m---------------------------------------------------------------------------\u001b[0m",
      "\u001b[1;31mNameError\u001b[0m                                 Traceback (most recent call last)",
      "Cell \u001b[1;32mIn[1], line 16\u001b[0m\n\u001b[0;32m     13\u001b[0m \u001b[38;5;28mprint\u001b[39m(f)\n\u001b[0;32m     15\u001b[0m \u001b[38;5;28;01mfor\u001b[39;00m i \u001b[38;5;129;01min\u001b[39;00m \u001b[38;5;28mrange\u001b[39m (randomNumber):\n\u001b[1;32m---> 16\u001b[0m     users\u001b[38;5;241m.\u001b[39mappend(\u001b[43mn\u001b[49m\u001b[38;5;241m+\u001b[39m\u001b[38;5;241m1\u001b[39m)\n\u001b[0;32m     19\u001b[0m G\u001b[38;5;241m.\u001b[39madd_nodes_from(users)\n\u001b[0;32m     22\u001b[0m friendships \u001b[38;5;241m=\u001b[39m []\n",
      "\u001b[1;31mNameError\u001b[0m: name 'n' is not defined"
     ]
    }
   ],
   "source": [
    "import networkx as nx\n",
    "import matplotlib.pyplot as plt\n",
    "import random\n",
    "\n",
    "G = nx.Graph()\n",
    "\n",
    "\n",
    "users = []\n",
    "randomNumber = random.randint(8,20); \n",
    "\n",
    "for i in range (randomNumber):\n",
    "    users.append(n+1)\n",
    "    \n",
    "f = [[] for i in range(randomNumber)]\n",
    "    \n",
    "\n",
    "G.add_nodes_from(users)\n",
    "\n",
    "\n",
    "friendships = []\n",
    "for j in range (friendships):\n",
    "    list=random.rand\n",
    "    \n",
    "\n",
    "\n",
    "randomFriendShips = random.randint()\n",
    "\n",
    "friendships = [(1, 2), (1, 3), \n",
    "               (2, 1), (2, 4), \n",
    "               (3, 1), (3, 4), (3, 5), \n",
    "               (4, 2), (4, 3), (4, 6), \n",
    "               (5, 3), (5, 6), \n",
    "               (6, 4), (6, 5), (6, 7), \n",
    "               (7, 6), (7, 8), \n",
    "               (8, 7)]\n",
    "\n",
    "G.add_edges_from(friendships)\n",
    "\n",
    "degrees = [val for (node, val) in G.degree()]\n",
    "average_neighbors = sum(degrees) / len(degrees)\n",
    "\n",
    "print(f\"Nombre de voisins moyen par utilisateur : {average_neighbors}\")\n",
    "\n",
    "pos = nx.spring_layout(G)\n",
    "nx.draw(G, pos, with_labels=True, node_color='lightblue', node_size=2000, edge_color='gray')\n",
    "plt.title(\"Graphe du réseau social\")\n",
    "plt.show()"
   ]
  }
 ],
 "metadata": {
  "kernelspec": {
   "display_name": "CESI",
   "language": "python",
   "name": "python3"
  },
  "language_info": {
   "codemirror_mode": {
    "name": "ipython",
    "version": 3
   },
   "file_extension": ".py",
   "mimetype": "text/x-python",
   "name": "python",
   "nbconvert_exporter": "python",
   "pygments_lexer": "ipython3",
   "version": "3.12.3"
  }
 },
 "nbformat": 4,
 "nbformat_minor": 2
}
