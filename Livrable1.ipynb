{
 "cells": [
  {
   "cell_type": "markdown",
   "metadata": {},
   "source": [
    "## Introduction et Contexte du Problème\n",
    "\n",
    "L'augmentation constante des coûts de transport et l'urgence environnementale mondiale appellent à des solutions innovantes dans la gestion de la logistique urbaine. Ce projet, initié en réponse à l'appel de l'Agence de l'Environnement et de la Maîtrise de l'Énergie (ADEME), vise à développer des stratégies optimisées pour la planification des tournées de livraison urbaines. En tirant parti des avancées technologiques et algorithmiques, l'objectif est de minimiser la consommation énergétique et les émissions de CO2 tout en améliorant l'efficacité opérationnelle des services de livraison.\n",
    "\n",
    "Dans ce contexte, notre étude se concentre sur la modélisation et la résolution d'un problème de tournées de véhicules, où chaque livraison doit être effectuée de la manière la plus efficiente possible. Cela implique non seulement de visiter chaque destination requise mais aussi de retourner au point de départ après la tournée, tout cela en minimisant le temps total de trajet. Ce problème, étroitement lié au célèbre problème du voyageur de commerce (TSP), pose des défis significatifs en raison de sa complexité inhérente et de ses implications pratiques pour les villes modernes cherchant à devenir plus durables."
   ]
  },
  {
   "cell_type": "markdown",
   "metadata": {},
   "source": [
    "## Description Formelle du Problème\n",
    "\n",
    "Le problème que nous abordons dans ce projet peut être formalisé comme un Problème de Tournée de Véhicules (Vehicle Routing Problem, VRP), une variante du problème du voyageur de commerce (TSP), où l'objectif est de planifier les itinéraires de plusieurs véhicules en partant et en revenant à un entrepôt ou à un point de départ unique, de manière à servir un ensemble de clients tout en minimisant la durée totale des tournées.\n",
    "\n",
    "### Données et Paramètres :\n",
    "- **G(V, E)**: Un graphe où V représente l'ensemble des sommets, incluant l'entrepôt (point de départ) et les points de livraison.\n",
    "- **E** représente l'ensemble des arêtes connectant ces points, avec un coût ou temps de trajet associé à chaque arête.\n",
    "- **K**: Le nombre de véhicules disponibles, chacun débutant et terminant sa tournée à l'entrepôt.\n",
    "- **C**: La capacité maximale que chaque véhicule peut transporter, définie en termes de volume ou de poids des marchandises.\n",
    "- **D**: La demande de chaque point de livraison, spécifiant la quantité de marchandises à livrer.\n",
    "\n",
    "### Objectif :\n",
    "Minimiser le coût total des tournées, qui peut être le temps total de trajet, la distance parcourue, ou une combinaison de plusieurs facteurs coûtant tels que le temps et le coût énergétique.\n",
    "\n",
    "### Contraintes :\n",
    "- **Contrainte de capacité**: Chaque véhicule ne doit pas transporter plus que sa capacité maximale.\n",
    "- **Contrainte de service**: Chaque client doit être visité une seule fois par un seul véhicule.\n",
    "- **Contrainte de retour**: Chaque véhicule doit retourner à l'entrepôt après avoir terminé ses livraisons."
   ]
  },
  {
   "cell_type": "markdown",
   "metadata": {},
   "source": [
    "## Représentation du Problème\n",
    "\n",
    "### Modélisation du Réseau de Livraison\n",
    "Le réseau de livraison est modélisé par un graphe pondéré G(V, E) où chaque sommet v ∈ V représente un point de livraison ou l'entrepôt, et chaque arête (u, v) ∈ E représente une route directe entre deux points, avec un poids associé représentant le coût de déplacement, qui peut être le temps, la distance, ou les coûts énergétiques.\n",
    "\n",
    "### Représentation des Véhicules et Capacités\n",
    "Chaque véhicule dans la flotte est représenté par un ensemble de capacités (poids ou volume) et est associé à un coût opérationnel spécifique. Les capacités des véhicules limitent la quantité de marchandises qu'ils peuvent transporter, influençant directement la planification des itinéraires.\n",
    "\n",
    "### Représentation des Demandes\n",
    "La demande de chaque client est représentée par un poids ou un volume de marchandises à livrer. Cette information est essentielle pour garantir que les assignations de livraison respectent les capacités des véhicules.\n",
    "\n",
    "### Fonction Objectif et Contraintes\n",
    "- **Fonction Objectif**: La fonction objectif est formulée pour minimiser le coût total des tournées, qui est souvent une combinaison linéaire du temps de trajet, de la distance parcourue, et d'autres coûts opérationnels.\n",
    "- **Contraintes de Capacité**: Chaque tournée planifiée doit respecter la capacité maximale de charge du véhicule assigné.\n",
    "- **Contraintes de Service**: Chaque client doit être visité une seule fois, et cette visite doit respecter la quantité de marchandises demandée.\n",
    "- **Contraintes de Retour**: Après la distribution, chaque véhicule doit retourner à l'entrepôt, ce qui peut nécessiter la planification de routes de retour optimales."
   ]
  },
  {
   "cell_type": "markdown",
   "metadata": {},
   "source": [
    "### Réduction Polynomiale et Appartenance à la Classe NP\n",
    "\n",
    "#### Appartenance à la Classe NP :\n",
    "- Un problème est dans NP s'il existe un certificat (une solution candidate) qui peut être vérifié en temps polynomial.\n",
    "- Pour notre problème, un certificat pourrait être une séquence ordonnée de villes (permettant des répétitions).\n",
    "- La vérification consiste à calculer la durée totale de la tournée et à vérifier qu'elle respecte les conditions du problème (ceci peut être effectué en temps polynomial).\n",
    "\n",
    "#### Réduction du Problème du Cycle Hamiltonien à Notre Problème :\n",
    "Le problème du cycle hamiltonien consiste à déterminer s'il existe un cycle passant par chaque sommet exactement une fois dans un graphe donné. Nous allons réduire ce problème à notre problème de VRP, en montrant qu'une solution à notre problème peut également résoudre le problème du cycle hamiltonien.\n",
    "\n",
    "- Supposons que nous avons un graphe \\( G=(V,E) \\) où \\( V \\) est l'ensemble des sommets (villes) et \\( E \\) est l'ensemble des arêtes (routes entre les villes).\n",
    "- Construisons une instance de notre problème à partir du graphe \\( G \\). Utilisons les sommets \\( V \\) comme villes et les arêtes \\( E \\) comme routes entre les villes avec une distance de 1 unité pour chaque arête.\n",
    "- Pour chaque paire de sommets \\( u, v \\) non connectés par une arête dans \\( G \\), ajoutons une route avec une distance infinie (ou une très grande valeur, suffisamment grande pour qu'elle ne soit jamais utilisée dans une solution optimale).\n",
    "\n",
    "La transformation ci-dessus est clairement polynomiale, car elle implique simplement l'ajout d'arêtes et l'attribution de distances, ce qui peut être effectué en temps polynomial.\n",
    "\n",
    "- Si \\( G \\) a un cycle hamiltonien, alors dans notre instance de problème, la tournée qui correspond à ce cycle aura une distance totale de \\( |V| \\) unités (puisque chaque arête du cycle a une distance de 1 unité et il y a \\( |V| \\) arêtes).\n",
    "- Cette tournée est une solution valide pour notre problème avec une distance minimale, et elle passe par chaque ville exactement une fois.\n",
    "- Si \\( G \\) n'a pas de cycle hamiltonien, alors toute tournée dans notre instance de problème qui tente de relier tous les sommets devra utiliser au moins une route avec une distance infinie (ou très grande), rendant impossible une solution avec une distance totale de \\( |V| \\) unités. Toute solution valide pour notre problème (sans passer plusieurs fois par la même ville inutilement) impliquera des distances beaucoup plus grandes.\n",
    "\n",
    "Puisque le problème du cycle hamiltonien est NP-complet, et que notre problème est dans NP et au moins aussi difficile, notre problème est également NP-complet.\n"
   ]
  }
 ],
 "metadata": {
  "language_info": {
   "name": "python"
  }
 },
 "nbformat": 4,
 "nbformat_minor": 2
}
